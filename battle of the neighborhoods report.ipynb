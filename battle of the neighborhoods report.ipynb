{
 "cells": [
  {
   "cell_type": "markdown",
   "metadata": {},
   "source": [
    "### Introduction/Business Problem"
   ]
  },
  {
   "cell_type": "markdown",
   "metadata": {},
   "source": [
    "Seattle, WA is quickly becoming one of the most expensive cities in the United States. As the cost of living continues to rise, some residents are leaving for a multitude of reasons. Some have been priced out of their current living arrangements, and many wish to live in a city that feels smaller. For these people, Portland, OR can be an attractive option. The goal of this project is to determine which neighborhoods share the most similarities so that people could find the place where they would most feel at home."
   ]
  },
  {
   "cell_type": "markdown",
   "metadata": {},
   "source": [
    "### Data"
   ]
  },
  {
   "cell_type": "markdown",
   "metadata": {},
   "source": [
    "Neighborhoods were identified using the [Seattle](https://en.wikipedia.org/wiki/List_of_neighborhoods_in_Seattle) and [Portland](https://en.wikipedia.org/wiki/Neighborhoods_of_Portland,_Oregon) lists of neighborhoods from Wikipedia. Lists of venues in each neighborhood were built using data from the [Foursquare Places API](https://developer.foursquare.com/). Venue information included name, category, and Global Positioning System (GPS) location."
   ]
  },
  {
   "cell_type": "code",
   "execution_count": null,
   "metadata": {},
   "outputs": [],
   "source": []
  }
 ],
 "metadata": {
  "kernelspec": {
   "display_name": "Python 3",
   "language": "python",
   "name": "python3"
  },
  "language_info": {
   "codemirror_mode": {
    "name": "ipython",
    "version": 3
   },
   "file_extension": ".py",
   "mimetype": "text/x-python",
   "name": "python",
   "nbconvert_exporter": "python",
   "pygments_lexer": "ipython3",
   "version": "3.8.5"
  }
 },
 "nbformat": 4,
 "nbformat_minor": 4
}
