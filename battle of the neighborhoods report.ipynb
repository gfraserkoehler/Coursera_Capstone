{
 "cells": [
  {
   "cell_type": "markdown",
   "metadata": {},
   "source": [
    "# Comparing Neighborhoods in Seattle, WA and Portland, OR"
   ]
  },
  {
   "cell_type": "markdown",
   "metadata": {},
   "source": [
    "### Introduction"
   ]
  },
  {
   "cell_type": "markdown",
   "metadata": {},
   "source": [
    "Seattle, WA is quickly becoming one of the most expensive cities in the United States. As the cost of living continues to rise, some residents are leaving for a multitude of reasons. Some have been priced out of their current living arrangements, and many wish to live in a city that feels smaller. For these people, Portland, OR can be an attractive option. The goal of this project is to determine which neighborhoods share the most similarities so that people could find the place where they would most feel at home."
   ]
  },
  {
   "cell_type": "markdown",
   "metadata": {},
   "source": [
    "### Data"
   ]
  },
  {
   "cell_type": "markdown",
   "metadata": {},
   "source": [
    "Neighborhoods were identified using the [Seattle](https://en.wikipedia.org/wiki/List_of_neighborhoods_in_Seattle) and [Portland](https://en.wikipedia.org/wiki/Neighborhoods_of_Portland,_Oregon) lists of neighborhoods from Wikipedia. Lists of venues in each neighborhood were built using data from the [Foursquare Places API](https://developer.foursquare.com/). Venue information included name, category, and Global Positioning System (GPS) location.\n",
    "\n",
    "Neighborhoods were excluded from analysis if latitude and longitude coordinates were not available."
   ]
  },
  {
   "cell_type": "markdown",
   "metadata": {},
   "source": [
    "### Methodology"
   ]
  },
  {
   "cell_type": "markdown",
   "metadata": {},
   "source": [
    "Venues were identified based on proximity to the neighborhood. After all venues were collected, they were grouped based on neighborhood. A dummy variable was created for the \"Venue Category\" variable, which was then normalized. A k-means clustering model was used to group neighborhoods based on the similarity of the nearby venues. "
   ]
  },
  {
   "cell_type": "markdown",
   "metadata": {},
   "source": [
    "### Results"
   ]
  },
  {
   "cell_type": "markdown",
   "metadata": {},
   "source": [
    "Three clusters were identified. The majority of neighborhoods in both cities were grouped in cluster 0, with only 9 neighborhoods in cluster 1 and 35 neighborhoods in cluster 2. Both cities experience more variation in neighborhoods the further out from the city center.\n",
    "\n",
    "![portland map](portland map.jpg)\n",
    "\n",
    "![seattle map](seattle map.jpg)"
   ]
  },
  {
   "cell_type": "markdown",
   "metadata": {},
   "source": [
    "### Discussion"
   ]
  },
  {
   "cell_type": "markdown",
   "metadata": {},
   "source": [
    "This analysis suggests that most neighborhoods are similar based on the available venues. This makes sense given the historical similarites of the cities. Based on these criteria, someone moving from Seattle to Portland should be able to relocate fairly easily to a neighborhood that feels similar. However, there are a number of ways this analysis could be expanded. One change could be to drop neighborhoods with a very low number of venues from the analysis, as the comparisons involving those neighborhoods is weak. The largest improvement would come from adding more data. Venue category is a weak proxy for other variables such as cost of living, and is likely unrelated to variables like education or job opportunities. Census data, job listings, and school rankings could help build a bigger picture."
   ]
  },
  {
   "cell_type": "markdown",
   "metadata": {},
   "source": [
    "### Conclusion"
   ]
  },
  {
   "cell_type": "markdown",
   "metadata": {},
   "source": [
    "The goal of this project was to assist people moving from Seattle to Portland with finding similar neighborhoods. Similarity was determined based on nearby venues gathered with the Foursquare Places API. Based on the clusters, stakeholders would be able to locate their neighborhood and identify neighborhoods in the other city in the same cluster. Given the broad nature of the clusters, other information would be necessary for stakeholders to make their final decision."
   ]
  }
 ],
 "metadata": {
  "kernelspec": {
   "display_name": "Python 3",
   "language": "python",
   "name": "python3"
  },
  "language_info": {
   "codemirror_mode": {
    "name": "ipython",
    "version": 3
   },
   "file_extension": ".py",
   "mimetype": "text/x-python",
   "name": "python",
   "nbconvert_exporter": "python",
   "pygments_lexer": "ipython3",
   "version": "3.8.5"
  }
 },
 "nbformat": 4,
 "nbformat_minor": 4
}
